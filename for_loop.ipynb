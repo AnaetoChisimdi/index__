{
 "cells": [
  {
   "cell_type": "code",
   "execution_count": 3,
   "metadata": {},
   "outputs": [
    {
     "name": "stdout",
     "output_type": "stream",
     "text": [
      "orange\n",
      "kiwi\n",
      "banana\n"
     ]
    }
   ],
   "source": [
    "fruits = ['orange', 'kiwi', 'banana']\n",
    "for f in fruits:\n",
    "    print(f)"
   ]
  },
  {
   "cell_type": "code",
   "execution_count": 7,
   "metadata": {},
   "outputs": [
    {
     "name": "stdout",
     "output_type": "stream",
     "text": [
      "bmw\n",
      "ford\n",
      "benz\n",
      "gmc\n"
     ]
    }
   ],
   "source": [
    "for car in ['bmw', 'ford', 'benz', 'gmc']:\n",
    "    print(car)"
   ]
  },
  {
   "cell_type": "code",
   "execution_count": 11,
   "metadata": {},
   "outputs": [
    {
     "name": "stdout",
     "output_type": "stream",
     "text": [
      "1\n",
      "4\n",
      "9\n"
     ]
    }
   ],
   "source": [
    "mylist = [1,2,3,4]\n",
    "for num in mylist:\n",
    "    if num == 4:\n",
    "        break\n",
    "    print(num**2)"
   ]
  },
  {
   "cell_type": "code",
   "execution_count": 9,
   "metadata": {},
   "outputs": [
    {
     "name": "stdout",
     "output_type": "stream",
     "text": [
      "i can print anything here\n",
      "i can print anything here\n",
      "i can print anything here\n",
      "i can print anything here\n"
     ]
    }
   ],
   "source": [
    "for num in mylist:\n",
    "    print('i can print anything here')"
   ]
  },
  {
   "cell_type": "code",
   "execution_count": 10,
   "metadata": {},
   "outputs": [
    {
     "name": "stdout",
     "output_type": "stream",
     "text": [
      "t\n",
      "h\n",
      "i\n",
      "s\n",
      " \n",
      "i\n",
      "s\n",
      " \n",
      "a\n",
      " \n",
      "s\n",
      "t\n",
      "r\n",
      "i\n",
      "n\n",
      "g\n"
     ]
    }
   ],
   "source": [
    "for character in \"this is a string\":\n",
    "    print(character)"
   ]
  },
  {
   "cell_type": "code",
   "execution_count": 12,
   "metadata": {},
   "outputs": [],
   "source": [
    "#create tuple\n",
    "tuple = ('apple', 'banana', 'cherry')"
   ]
  },
  {
   "cell_type": "code",
   "execution_count": 13,
   "metadata": {},
   "outputs": [
    {
     "data": {
      "text/plain": [
       "tuple"
      ]
     },
     "execution_count": 13,
     "metadata": {},
     "output_type": "execute_result"
    }
   ],
   "source": [
    "type(tuple)"
   ]
  },
  {
   "cell_type": "code",
   "execution_count": 20,
   "metadata": {},
   "outputs": [
    {
     "name": "stdout",
     "output_type": "stream",
     "text": [
      "no\n"
     ]
    }
   ],
   "source": [
    "t = ('apple', 'banana', 'cherry')\n",
    "if \"liwi\" in t:\n",
    "    print(\"yes, 'apple' is in the fruits tuple\")\n",
    "else:\n",
    "    print('no')    "
   ]
  },
  {
   "cell_type": "markdown",
   "metadata": {},
   "source": [
    "#### conditional statements"
   ]
  },
  {
   "cell_type": "markdown",
   "metadata": {},
   "source": [
    "# h1"
   ]
  },
  {
   "cell_type": "markdown",
   "metadata": {},
   "source": [
    "## h2"
   ]
  },
  {
   "cell_type": "markdown",
   "metadata": {},
   "source": [
    "### h3"
   ]
  },
  {
   "cell_type": "markdown",
   "metadata": {},
   "source": [
    "#### h4"
   ]
  },
  {
   "cell_type": "markdown",
   "metadata": {},
   "source": [
    "##### h5"
   ]
  },
  {
   "cell_type": "markdown",
   "metadata": {},
   "source": [
    "###### h6"
   ]
  },
  {
   "cell_type": "markdown",
   "metadata": {},
   "source": [
    "#### Getting Input From The User"
   ]
  },
  {
   "cell_type": "code",
   "execution_count": 22,
   "metadata": {},
   "outputs": [
    {
     "name": "stdout",
     "output_type": "stream",
     "text": [
      "hello,Simdi!\n"
     ]
    }
   ],
   "source": [
    "name = input(\"what is your name\")\n",
    "print(\"hello,\" + name + \"!\" )"
   ]
  },
  {
   "cell_type": "code",
   "execution_count": 23,
   "metadata": {},
   "outputs": [
    {
     "name": "stdout",
     "output_type": "stream",
     "text": [
      "LIsa was born in 2020\n"
     ]
    }
   ],
   "source": [
    "name = input(\"what is your name\")\n",
    "age = input('how old are you')\n",
    "print(\"LIsa was born in 2020\")"
   ]
  },
  {
   "cell_type": "code",
   "execution_count": 27,
   "metadata": {},
   "outputs": [
    {
     "name": "stdout",
     "output_type": "stream",
     "text": [
      "simdi was born in  2016\n"
     ]
    }
   ],
   "source": [
    "name = input('what is your name')\n",
    "age = int(input(' '))\n",
    "year = 2024 - age\n",
    "print( name + ' was born in ', year)"
   ]
  },
  {
   "cell_type": "code",
   "execution_count": 29,
   "metadata": {},
   "outputs": [
    {
     "name": "stdout",
     "output_type": "stream",
     "text": [
      "correct guess\n"
     ]
    }
   ],
   "source": [
    "a = int(input('guess a number:'))\n",
    "\n",
    "if a == 1:\n",
    "    print(\"correct guess\")\n",
    "else:\n",
    "    print(\"incorrect guess\")    "
   ]
  },
  {
   "cell_type": "code",
   "execution_count": 1,
   "metadata": {},
   "outputs": [
    {
     "name": "stdout",
     "output_type": "stream",
     "text": [
      "good afternoon\n"
     ]
    }
   ],
   "source": [
    "a = (input('moring:'))\n",
    "\n",
    "if a == 'good morning':\n",
    "    print('good moring')\n",
    "else:\n",
    "    print('good afternoon')\n",
    "     "
   ]
  },
  {
   "cell_type": "code",
   "execution_count": 2,
   "metadata": {},
   "outputs": [
    {
     "name": "stdout",
     "output_type": "stream",
     "text": [
      "a is bigger than b\n"
     ]
    }
   ],
   "source": [
    "a = 100\n",
    "b = 20\n",
    "\n",
    "if b > a:\n",
    "    print('b is in fact bigger than a')\n",
    "else:\n",
    "    print('a is bigger than b')\n",
    "# always watch out for indentation"
   ]
  },
  {
   "cell_type": "code",
   "execution_count": 9,
   "metadata": {},
   "outputs": [
    {
     "name": "stdout",
     "output_type": "stream",
     "text": [
      "login successful\n"
     ]
    }
   ],
   "source": [
    "saved_password = 123456 \n",
    "new_password = (input('enter your password:'))\n",
    "\n",
    "if int(new_password) == saved_password:\n",
    "    print('login successful')\n",
    "else:\n",
    "    print('you are a criminal')\n"
   ]
  },
  {
   "cell_type": "code",
   "execution_count": 8,
   "metadata": {},
   "outputs": [
    {
     "name": "stdout",
     "output_type": "stream",
     "text": [
      "login successful\n"
     ]
    }
   ],
   "source": [
    "saved_password = 123456 \n",
    "new_password = int(input('enter your password:'))\n",
    "\n",
    "if int(new_password) == saved_password:\n",
    "    print('login successful')\n",
    "else:\n",
    "    print('you are a criminal')"
   ]
  },
  {
   "cell_type": "code",
   "execution_count": 6,
   "metadata": {},
   "outputs": [
    {
     "data": {
      "text/plain": [
       "str"
      ]
     },
     "execution_count": 6,
     "metadata": {},
     "output_type": "execute_result"
    }
   ],
   "source": [
    "type(new_password)"
   ]
  },
  {
   "cell_type": "code",
   "execution_count": 16,
   "metadata": {},
   "outputs": [
    {
     "name": "stdout",
     "output_type": "stream",
     "text": [
      "what is good about the afternoon\n"
     ]
    }
   ],
   "source": [
    "user_input = input('enter greeting:')\n",
    "\n",
    "if user_input == 'good morning':\n",
    "    print('good morning my love')\n",
    "elif user_input == 'good afternoon':\n",
    "    print('what is good about the afternoon')\n",
    "elif user_input == 'goodnight':\n",
    "    print('goodnight darling')\n",
    "else:\n",
    "    print('get out')\n",
    "    "
   ]
  },
  {
   "cell_type": "code",
   "execution_count": 17,
   "metadata": {},
   "outputs": [
    {
     "name": "stdout",
     "output_type": "stream",
     "text": [
      "{'apple', 'cherry', 'banana'}\n"
     ]
    }
   ],
   "source": [
    "# sets are written with curly brackets\n",
    "\n",
    "thisset = {'apple', 'banana', 'cherry'}\n",
    "print(thisset)"
   ]
  },
  {
   "cell_type": "code",
   "execution_count": 19,
   "metadata": {},
   "outputs": [
    {
     "name": "stdout",
     "output_type": "stream",
     "text": [
      "{'apple', 'cherry', 'banana'}\n"
     ]
    }
   ],
   "source": [
    "thisset.add('apple')\n",
    "print(thisset)"
   ]
  },
  {
   "cell_type": "code",
   "execution_count": 20,
   "metadata": {},
   "outputs": [
    {
     "name": "stdout",
     "output_type": "stream",
     "text": [
      "{'cherry', 'apple', 'banana'}\n"
     ]
    }
   ],
   "source": [
    "a = ('apple', 'banana', 'cherry')\n",
    "ts = set(a)\n",
    "print(ts)"
   ]
  },
  {
   "cell_type": "code",
   "execution_count": 21,
   "metadata": {},
   "outputs": [
    {
     "name": "stdout",
     "output_type": "stream",
     "text": [
      "{0, 1, 2, 3, 4}\n"
     ]
    }
   ],
   "source": [
    "mylist = [0,1,1,2,3,3,2,4]\n",
    "ts2 = set(mylist)\n",
    "print(ts2) \n"
   ]
  },
  {
   "cell_type": "code",
   "execution_count": 22,
   "metadata": {},
   "outputs": [
    {
     "name": "stdout",
     "output_type": "stream",
     "text": [
      "{0, 1, 2, 3, 4}\n"
     ]
    }
   ],
   "source": [
    "ts3 = set([0,1,1,2,3,3,2,4])\n",
    "print(ts3)"
   ]
  },
  {
   "cell_type": "code",
   "execution_count": 24,
   "metadata": {},
   "outputs": [
    {
     "name": "stdout",
     "output_type": "stream",
     "text": [
      "{'fruits': 'orange', 'drinks': ['chivita', 'yoghurt', 'milkshake'], 'cereal': 'golden morn'}\n"
     ]
    }
   ],
   "source": [
    "food = {\n",
    "    'fruits': 'orange',\n",
    "    'drinks': ['chivita', 'yoghurt', 'milkshake'],\n",
    "    'cereal': 'granola',\n",
    "    'cereal': 'golden morn'\n",
    "} \n",
    "print(food)"
   ]
  },
  {
   "cell_type": "code",
   "execution_count": 27,
   "metadata": {},
   "outputs": [
    {
     "data": {
      "text/plain": [
       "['chivita', 'yoghurt', 'milkshake']"
      ]
     },
     "execution_count": 27,
     "metadata": {},
     "output_type": "execute_result"
    }
   ],
   "source": [
    "food ['cereal']\n",
    "food ['drinks']\n"
   ]
  },
  {
   "cell_type": "code",
   "execution_count": 28,
   "metadata": {},
   "outputs": [
    {
     "data": {
      "text/plain": [
       "'milkshake'"
      ]
     },
     "execution_count": 28,
     "metadata": {},
     "output_type": "execute_result"
    }
   ],
   "source": [
    "food['drinks'][2]"
   ]
  },
  {
   "cell_type": "code",
   "execution_count": 34,
   "metadata": {},
   "outputs": [],
   "source": [
    "def login():\n",
    "    '''this prints the sum of two numbers a and b'''\n",
    "    firstname = input('enter firstname')\n",
    "    Lastname = input('enter lastname')\n",
    "    password = int(input('enter password'))\n",
    "    savedpassword = 1234\n",
    "\n",
    "    if password == savedpassword:\n",
    "        print(f'Login successful {firstname} {Lastname}')\n",
    "    else:\n",
    "        print('incorrect password')\n",
    "\n",
    "    return\n"
   ]
  },
  {
   "cell_type": "code",
   "execution_count": 33,
   "metadata": {},
   "outputs": [
    {
     "name": "stdout",
     "output_type": "stream",
     "text": [
      "Login successful Simdi Anaeto\n"
     ]
    }
   ],
   "source": [
    "login()"
   ]
  },
  {
   "cell_type": "code",
   "execution_count": 35,
   "metadata": {},
   "outputs": [
    {
     "data": {
      "text/plain": [
       "'this prints the sum of two numbers a and b'"
      ]
     },
     "execution_count": 35,
     "metadata": {},
     "output_type": "execute_result"
    }
   ],
   "source": [
    "login.__doc__"
   ]
  },
  {
   "cell_type": "code",
   "execution_count": 36,
   "metadata": {},
   "outputs": [],
   "source": [
    "def age():\n",
    "    age = int(input('your age'))\n",
    "    year = 2024 - age\n",
    "    print('was born', year)"
   ]
  },
  {
   "cell_type": "code",
   "execution_count": 38,
   "metadata": {},
   "outputs": [
    {
     "name": "stdout",
     "output_type": "stream",
     "text": [
      "was born 1997\n"
     ]
    }
   ],
   "source": [
    "age()"
   ]
  },
  {
   "cell_type": "code",
   "execution_count": 40,
   "metadata": {},
   "outputs": [
    {
     "name": "stdout",
     "output_type": "stream",
     "text": [
      "10.714285714285714\n"
     ]
    }
   ],
   "source": [
    "def average(a,n,e):\n",
    "    print(a+n/e)\n",
    "average(9,12,7)          "
   ]
  },
  {
   "cell_type": "code",
   "execution_count": 41,
   "metadata": {},
   "outputs": [
    {
     "name": "stdout",
     "output_type": "stream",
     "text": [
      "the passed name is John Snow\n",
      "the new name in this function is Harry Potter\n"
     ]
    }
   ],
   "source": [
    "def change_name(name):\n",
    "    print('the passed name is {}'.format(name))\n",
    "    #change the name \n",
    "    name = 'Harry Potter'\n",
    "    print('the new name in this function is {}'.format(name))\n",
    "    return\n",
    "\n",
    "#call the function\n",
    "name = 'John Snow'\n",
    "change_name(name)"
   ]
  },
  {
   "cell_type": "code",
   "execution_count": 43,
   "metadata": {},
   "outputs": [
    {
     "name": "stdout",
     "output_type": "stream",
     "text": [
      "the passed name is Harry Potter\n",
      "the new name in this function is Harry Potter\n"
     ]
    }
   ],
   "source": [
    "def change_name(name):\n",
    "    #change the name \n",
    "    name = 'Harry Potter'\n",
    "    print('the passed name is {}'.format(name))\n",
    "    print('the new name in this function is {}'.format(name))\n",
    "    return\n",
    "\n",
    "#call the function\n",
    "name = 'John Snow'\n",
    "change_name(name)"
   ]
  },
  {
   "cell_type": "code",
   "execution_count": 44,
   "metadata": {},
   "outputs": [
    {
     "name": "stdout",
     "output_type": "stream",
     "text": [
      "1 2 3 4 5\n"
     ]
    }
   ],
   "source": [
    "def func(a,b,c,d,e):\n",
    "    print(a, b, c, d, e)\n",
    "    return\n",
    "func(1,2,3,4,5)"
   ]
  },
  {
   "cell_type": "code",
   "execution_count": 47,
   "metadata": {},
   "outputs": [
    {
     "name": "stdout",
     "output_type": "stream",
     "text": [
      "2012\n"
     ]
    }
   ],
   "source": [
    "def changenames(age=12,year=2024):\n",
    "    print(year - age)\n",
    "    return\n",
    "changenames()"
   ]
  },
  {
   "cell_type": "code",
   "execution_count": 53,
   "metadata": {},
   "outputs": [],
   "source": [
    "def my_function(child3, child2, child1):\n",
    "    print(\"the youngest child is \" + child1)\n",
    "    print(\"the mid child is \" + child2)\n",
    "    print(\"the eldest child is \" + child3)\n",
    "    return"
   ]
  },
  {
   "cell_type": "code",
   "execution_count": 54,
   "metadata": {},
   "outputs": [
    {
     "name": "stdout",
     "output_type": "stream",
     "text": [
      "the youngest child is Emil\n",
      "the mid child is Tobias\n",
      "the eldest child is Linus\n"
     ]
    }
   ],
   "source": [
    "my_function(child1 = \"Emil\", child2 = \"Tobias\", child3 = \"Linus\")"
   ]
  },
  {
   "cell_type": "code",
   "execution_count": 55,
   "metadata": {},
   "outputs": [
    {
     "name": "stdout",
     "output_type": "stream",
     "text": [
      "the youngest child is Tobias\n",
      "the mid child is Linus\n",
      "the eldest child is Emil\n"
     ]
    }
   ],
   "source": [
    "my_function('Emil', 'Linus', 'Tobias')"
   ]
  },
  {
   "cell_type": "code",
   "execution_count": 60,
   "metadata": {},
   "outputs": [],
   "source": [
    "def info():\n",
    "    name = input('enter name')\n",
    "    age = int(input('enter age'))\n",
    "    print(name, 'is' , age)\n",
    "    return"
   ]
  },
  {
   "cell_type": "code",
   "execution_count": 61,
   "metadata": {},
   "outputs": [
    {
     "name": "stdout",
     "output_type": "stream",
     "text": [
      "Tabitha is 20\n"
     ]
    }
   ],
   "source": [
    "info()"
   ]
  },
  {
   "cell_type": "code",
   "execution_count": 62,
   "metadata": {},
   "outputs": [
    {
     "name": "stdout",
     "output_type": "stream",
     "text": [
      "25\n",
      "90\n",
      "23\n"
     ]
    }
   ],
   "source": [
    "age=25\n",
    "print(age)\n",
    "age = 90\n",
    "print(age)\n",
    "age=23\n",
    "print(age)"
   ]
  },
  {
   "cell_type": "code",
   "execution_count": 63,
   "metadata": {},
   "outputs": [
    {
     "name": "stdout",
     "output_type": "stream",
     "text": [
      "23\n"
     ]
    }
   ],
   "source": [
    "print(age)"
   ]
  },
  {
   "cell_type": "code",
   "execution_count": 65,
   "metadata": {},
   "outputs": [
    {
     "name": "stdout",
     "output_type": "stream",
     "text": [
      "Age 90\n"
     ]
    }
   ],
   "source": [
    "def printinfo(age=25):\n",
    "    \"this prints the info about a person\"\n",
    "    print(\"Age\", age)\n",
    "    return\n",
    "\n",
    "\n",
    "printinfo(90)"
   ]
  },
  {
   "cell_type": "code",
   "execution_count": 66,
   "metadata": {},
   "outputs": [
    {
     "name": "stdout",
     "output_type": "stream",
     "text": [
      "Age 25\n"
     ]
    }
   ],
   "source": [
    "def printinfo(age=25):\n",
    "    \"this prints the info about a person\"\n",
    "    print(\"Age\", age)\n",
    "    return\n",
    "\n",
    "\n",
    "printinfo()"
   ]
  },
  {
   "cell_type": "code",
   "execution_count": 67,
   "metadata": {},
   "outputs": [],
   "source": [
    "def myfun(*argv):\n",
    "    for arg in argv:\n",
    "        print(arg)"
   ]
  },
  {
   "cell_type": "code",
   "execution_count": 68,
   "metadata": {},
   "outputs": [
    {
     "name": "stdout",
     "output_type": "stream",
     "text": [
      "hello\n",
      "welcome\n",
      "to\n",
      "GeeksforGeeks\n"
     ]
    }
   ],
   "source": [
    "myfun('hello', 'welcome', 'to', 'GeeksforGeeks')"
   ]
  },
  {
   "cell_type": "code",
   "execution_count": null,
   "metadata": {},
   "outputs": [],
   "source": []
  },
  {
   "cell_type": "code",
   "execution_count": 80,
   "metadata": {},
   "outputs": [],
   "source": [
    "def myfun(args,*argv):\n",
    "    for arg in argv:\n",
    "        print(arg)"
   ]
  },
  {
   "cell_type": "code",
   "execution_count": 81,
   "metadata": {},
   "outputs": [
    {
     "name": "stdout",
     "output_type": "stream",
     "text": [
      "80\n",
      "90\n",
      "98\n",
      "97\n"
     ]
    }
   ],
   "source": [
    "myfun('john', 80,90,98,97)"
   ]
  },
  {
   "cell_type": "code",
   "execution_count": null,
   "metadata": {},
   "outputs": [],
   "source": []
  }
 ],
 "metadata": {
  "kernelspec": {
   "display_name": "base",
   "language": "python",
   "name": "python3"
  },
  "language_info": {
   "codemirror_mode": {
    "name": "ipython",
    "version": 3
   },
   "file_extension": ".py",
   "mimetype": "text/x-python",
   "name": "python",
   "nbconvert_exporter": "python",
   "pygments_lexer": "ipython3",
   "version": "3.11.7"
  }
 },
 "nbformat": 4,
 "nbformat_minor": 2
}
